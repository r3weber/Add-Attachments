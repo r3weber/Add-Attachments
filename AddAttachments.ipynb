{
 "cells": [
  {
   "cell_type": "code",
   "execution_count": 7,
   "metadata": {},
   "outputs": [
    {
     "data": {
      "text/html": [
       "<div class=\"item_container\" style=\"height: auto; overflow: hidden; border: 1px solid #cfcfcf; border-radius: 2px; background: #f6fafa; line-height: 1.21429em; padding: 10px;\">\n",
       "                    <div class=\"item_left\" style=\"width: 210px; float: left;\">\n",
       "                       <a href='http://osmre.maps.arcgis.com/home/item.html?id=ef5f37091f96467ba7127db329faf269' target='_blank'>\n",
       "                        <img src='data:image/png;base64,iVBORw0KGgoAAAANSUhEUgAAAMgAAACFCAIAAACR/CB7AAAACXBIWXMAAAAnAAAAJwEqCZFPAAAB4ElEQVR4nO3bsW0bQRBA0aUKcAGioFwl6Aq5Iunr43InbsCbuoVzASYT2p8CiPfS2WCCDyw22NNxHAP+t5evXoDnJCwSwiIhLBLCIiEsEsIiISwSwiIhLBLCIiEsEsIiISwSwiIhLBLCIiEsEsIiISzutCzLuq63psLiHtu2/X7ff7x837bt6oGTXzrcYc758fk2xvi5/zqfz38fEBYJVyEJYZEQFglhkRAWCWGREBYJYZEQFglhkRAWCWGREBYJYZEQFglhkRAWCWGREBYJYZEQFglhkRAWCWGREBYJYZEQFglhkRAWCWGREBYJYZEQFglhkRAWCWGREBYJYZEQFglhkRAWCWGREBYJYZEQFglhkRAWCWGREBYJYZEQFglhkRAWCWGREBYJYZEQFglhkRAWCWGREBYJYZEQFglhkRAWCWGREBYJYZEQFglhkRAWCWGREBYJYZEQFglhkRAWCWGREBYJYZEQFglhkRAWCWGREBaJm2HNOR+5B0/melhzzo/Pt2/vJ3lxn+th7fv+uozXZez7/uCFeA6n4ziuDtZ1HWNcLpfH7sOTuBkW/AuvQhLCIiEsEsIiISwSwiIhLBLCIiEsEsIiISwSwiIhLBLCIiEsEsIiISwSwiIhLBJ/ADzQMAsnHAF6AAAAAElFTkSuQmCC' width='200' height='133' class=\"itemThumbnail\">\n",
       "                       </a>\n",
       "                    </div>\n",
       "\n",
       "                    <div class=\"item_right\"     style=\"float: none; width: auto; overflow: hidden;\">\n",
       "                        <a href='http://osmre.maps.arcgis.com/home/item.html?id=ef5f37091f96467ba7127db329faf269' target='_blank'><b>createattachmentstest</b>\n",
       "                        </a>\n",
       "                        <br/>test<img src='http://osmre.maps.arcgis.com/home/js/jsapi/esri/css/images/item_type_icons/featureshosted16.png' style=\"vertical-align:middle;\">Feature Layer Collection by rweber_osmregeo\n",
       "                        <br/>Last Modified: November 21, 2017\n",
       "                        <br/>0 comments, 34 views\n",
       "                    </div>\n",
       "                </div>\n",
       "                "
      ],
      "text/plain": [
       "<Item title:\"createattachmentstest\" type:Feature Layer Collection owner:rweber_osmregeo>"
      ]
     },
     "metadata": {},
     "output_type": "display_data"
    }
   ],
   "source": [
    "import logging, os, re, datetime\n",
    "from IPython.display import display\n",
    "from arcgis.gis import GIS\n",
    "\n",
    "''' ********************** SCRIPT CONFIGURATION START ********************** '''\n",
    "\n",
    "#What is the ID of the Feature Layer you want to Add attachments to?\n",
    "FeatureLayerId = ''\n",
    "\n",
    "#What are your ArcGIS Enterprise/ArcGIS Online credentials? This is case sensitive.\n",
    "PortalUserName = ''\n",
    "PortalPassword = ''\n",
    "PortalUrl = ''\n",
    "\n",
    "#Where are your attachments stored?\n",
    "attachmentFolder = r''\n",
    "\n",
    "#Set to False if ArcGIS Enterprise cert is not valid\n",
    "PortalCertVerification = True\n",
    "#Connect to GIS, and get Feature Layer information\n",
    "if PortalUserName == '' and PortalPassword == '':\n",
    "    gis = GIS()\n",
    "else:\n",
    "    gis = GIS(PortalUrl, PortalUserName, PortalPassword, verify_cert=PortalCertVerification)\n",
    "\n",
    "#Display item\n",
    "itemObject = gis.content.get(FeatureLayerId)\n",
    "\n",
    "display(itemObject)\n"
   ]
  },
  {
   "cell_type": "code",
   "execution_count": 8,
   "metadata": {},
   "outputs": [
    {
     "name": "stdout",
     "output_type": "stream",
     "text": [
      "[{'id': 90, 'globalId': '731aed5c-2f49-4c9f-8696-2c7e34e443fc', 'parentGlobalId': '02248e6c-6971-47b8-a098-d8db859ab6eb', 'name': '6-4-RTD (2).jpg', 'contentType': 'image/jpeg', 'size': 127210, 'keywords': ''}]\n",
      "[{'id': 90, 'globalId': '731aed5c-2f49-4c9f-8696-2c7e34e443fc', 'parentGlobalId': '02248e6c-6971-47b8-a098-d8db859ab6eb', 'name': '6-4-RTD (2).jpg', 'contentType': 'image/jpeg', 'size': 127210, 'keywords': ''}, {'id': 91, 'globalId': '6cee90e7-4c48-4ce6-b8f2-a66c44485055', 'parentGlobalId': '02248e6c-6971-47b8-a098-d8db859ab6eb', 'name': '6-5-RTD.jpg', 'contentType': 'image/jpeg', 'size': 160173, 'keywords': ''}]\n",
      "[{'id': 92, 'globalId': 'b094ddfe-b0a2-48d9-9a56-8867b8dff03b', 'parentGlobalId': 'cd91ea45-4eab-4e7b-b40b-a9e2d70da8a7', 'name': '7-6-Tire Sale.jpg', 'contentType': 'image/jpeg', 'size': 100880, 'keywords': ''}]\n"
     ]
    }
   ],
   "source": [
    "# #Loop through layers in Feature Layer\n",
    "for i in range(len(itemObject.layers)):\n",
    "    featureLayer = itemObject.layers[i]\n",
    " #Skip layer if attachments are not enabled\n",
    "    if featureLayer.properties.hasAttachments == True:\n",
    "#Query to get list of all records to start with\n",
    "        query1 = featureLayer.query(where='1=1', return_all_records='true')\n",
    "    #Create dataframe object and get list of attributes to match attachments to\n",
    "    for name in query1.df['name']:\n",
    "        #Search specified folder for attachments\n",
    "        for root, dirs, files in os.walk(attachmentFolder): \n",
    "            #List files in folder\n",
    "            for filename in files:\n",
    "                #look for files that contain the attributes from the dataframe object in their name \n",
    "                attachment = re.findall((name), filename)\n",
    "                if not attachment: continue\n",
    "                #list the files that have a match in the name\n",
    "                for pic in attachment:\n",
    "                    #isolate those features in the dataframe object that match the name of the files to be attached\n",
    "                    features = query1.df['name'] == pic\n",
    "                    #Iterate through the features in the df object and list only their ObjectID\n",
    "                    for index, row in query1.df[features].iterrows():\n",
    "                        realOID = row['OBJECTID']\n",
    "                        #set the full file path to the files to be attached\n",
    "                        filePath = os.path.abspath(os.path.join(root, filename))\n",
    "                        #attach the appropriate files\n",
    "                        featureLayer.attachments.add(realOID, filePath)\n",
    "                        \n",
    "                    else:\n",
    "                        continue"
   ]
  }
 ],
 "metadata": {
  "kernelspec": {
   "display_name": "Python 3",
   "language": "python",
   "name": "python3"
  },
  "language_info": {
   "codemirror_mode": {
    "name": "ipython",
    "version": 3
   },
   "file_extension": ".py",
   "mimetype": "text/x-python",
   "name": "python",
   "nbconvert_exporter": "python",
   "pygments_lexer": "ipython3",
   "version": "3.6.3"
  }
 },
 "nbformat": 4,
 "nbformat_minor": 2
}
